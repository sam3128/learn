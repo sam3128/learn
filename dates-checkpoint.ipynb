{
 "cells": [
  {
   "cell_type": "code",
   "execution_count": 12,
   "metadata": {},
   "outputs": [],
   "source": [
    "import pandas as pd\n",
    "import numpy as np\n",
    "from datetime import datetime\n",
    "from datetime import date\n",
    "from date.util.relativedelta import relativedelta"
   ]
  },
  {
   "cell_type": "markdown",
   "metadata": {},
   "source": [
    "#### A date string"
   ]
  },
  {
   "cell_type": "code",
   "execution_count": 63,
   "metadata": {},
   "outputs": [],
   "source": [
    "date_str='01/01/2016 01:00:00 PM'"
   ]
  },
  {
   "cell_type": "markdown",
   "metadata": {},
   "source": [
    "### converting a date string to date object\n",
    "#### Directive\tMeaning\tExample\n",
    "\n",
    "- %a\tAbbreviated weekday name.\tSun, Mon, ...\n",
    "- %A\tFull weekday name.\tSunday, Monday, ...\n",
    "- %w\tWeekday as a decimal number.\t0, 1, ..., 6\n",
    "- %d\tDay of the month as a zero-padded decimal.\t01, 02, ..., 31\n",
    "- %-d\tDay of the month as a decimal number.\t1, 2, ..., 30\n",
    "- %b\tAbbreviated month name.\tJan, Feb, ..., Dec\n",
    "- %B\tFull month name.\tJanuary, February, ...\n",
    "- %m\tMonth as a zero-padded decimal number.\t01, 02, ..., 12\n",
    "- %-m\tMonth as a decimal number.\t1, 2, ..., 12\n",
    "- %y\tYear without century as a zero-padded decimal number.\t00, 01, ..., 99\n",
    "- %-y\tYear without century as a decimal number.\t0, 1, ..., 99\n",
    "- %Y\tYear with century as a decimal number.\t2013, 2019 etc.\n",
    "- %H\tHour (24-hour clock) as a zero-padded decimal number.\t00, 01, ..., 23\n",
    "- %-H\tHour (24-hour clock) as a decimal number.\t0, 1, ..., 23\n",
    "- %I\tHour (12-hour clock) as a zero-padded decimal number.\t01, 02, ..., 12\n",
    "- %-I\tHour (12-hour clock) as a decimal number.\t1, 2, ... 12\n",
    "- %p\tLocale’s AM or PM.\tAM, PM\n",
    "- %M\tMinute as a zero-padded decimal number.\t00, 01, ..., 59\n",
    "- %-M\tMinute as a decimal number.\t0, 1, ..., 59\n",
    "- %S\tSecond as a zero-padded decimal number.\t00, 01, ..., 59\n",
    "- %-S\tSecond as a decimal number.\t0, 1, ..., 59\n",
    "- %f\tMicrosecond as a decimal number, zero-padded on the left.\t000000 - 999999\n",
    "- %z\tUTC offset in the form +HHMM or -HHMM.\t \n",
    "- %Z\tTime zone name.\t \n",
    "- %j\tDay of the year as a zero-padded decimal number.\t001, 002, ..., 366\n",
    "- %-j\tDay of the year as a decimal number.\t1, 2, ..., 366\n",
    "- %U\tWeek number of the year (Sunday as the first day of the week). All days in a new year preceding the first Sunday are considered to be in week 0.\t00, 01, ..., 53\n",
    "- %W\tWeek number of the year (Monday as the first day of the week). All days in a new year preceding the first Monday are considered to be in week 0.\t00, 01, ..., 53\n",
    "- %c\tLocale’s appropriate date and time representation.\tMon Sep 30 07:06:05 2013\n",
    "- %x\tLocale’s appropriate date representation.\t09/30/13\n",
    "- %X\tLocale’s appropriate time representation.\t07:06:05\n",
    "- %%\tA literal '%' character.\t%"
   ]
  },
  {
   "cell_type": "code",
   "execution_count": 32,
   "metadata": {},
   "outputs": [],
   "source": [
    "date_obj=datetime.strptime(date_str,'%d/%m/%Y %I:%M:%S %p')"
   ]
  },
  {
   "cell_type": "code",
   "execution_count": 64,
   "metadata": {},
   "outputs": [
    {
     "data": {
      "text/plain": [
       "datetime.datetime(2016, 1, 1, 13, 0)"
      ]
     },
     "execution_count": 64,
     "metadata": {},
     "output_type": "execute_result"
    }
   ],
   "source": [
    "date_obj"
   ]
  },
  {
   "cell_type": "code",
   "execution_count": 65,
   "metadata": {},
   "outputs": [
    {
     "data": {
      "text/plain": [
       "str"
      ]
     },
     "execution_count": 65,
     "metadata": {},
     "output_type": "execute_result"
    }
   ],
   "source": [
    "type(date_str)"
   ]
  },
  {
   "cell_type": "code",
   "execution_count": 66,
   "metadata": {},
   "outputs": [
    {
     "data": {
      "text/plain": [
       "datetime.datetime"
      ]
     },
     "execution_count": 66,
     "metadata": {},
     "output_type": "execute_result"
    }
   ],
   "source": [
    "type(date_obj)"
   ]
  },
  {
   "cell_type": "markdown",
   "metadata": {},
   "source": [
    "## a small example of your problem\n",
    "\n",
    "**Step 1:Created a series for both columns**"
   ]
  },
  {
   "cell_type": "code",
   "execution_count": 87,
   "metadata": {},
   "outputs": [],
   "source": [
    "d1=['01/01/2016 01:00:00 PM','01/01/2016 01:00:44 AM']\n",
    "opnsr=pd.Series(d1)"
   ]
  },
  {
   "cell_type": "code",
   "execution_count": 88,
   "metadata": {},
   "outputs": [
    {
     "data": {
      "text/plain": [
       "0    01/01/2016 01:00:00 PM\n",
       "1    01/01/2016 01:00:44 AM\n",
       "dtype: object"
      ]
     },
     "execution_count": 88,
     "metadata": {},
     "output_type": "execute_result"
    }
   ],
   "source": [
    "opnsr"
   ]
  },
  {
   "cell_type": "code",
   "execution_count": 89,
   "metadata": {},
   "outputs": [],
   "source": [
    "d2=['01/02/2016 12:00:00 PM','01/01/2016 01:13:11 AM']"
   ]
  },
  {
   "cell_type": "code",
   "execution_count": 90,
   "metadata": {},
   "outputs": [
    {
     "data": {
      "text/plain": [
       "0    01/02/2016 12:00:00 PM\n",
       "1    01/01/2016 01:13:11 AM\n",
       "dtype: object"
      ]
     },
     "execution_count": 90,
     "metadata": {},
     "output_type": "execute_result"
    }
   ],
   "source": [
    "clsdsr=pd.Series(d2)\n",
    "clsdsr"
   ]
  },
  {
   "cell_type": "markdown",
   "metadata": {},
   "source": [
    "**Step 2: Created a dataframe using two series conatining date strings**"
   ]
  },
  {
   "cell_type": "code",
   "execution_count": 91,
   "metadata": {},
   "outputs": [],
   "source": [
    "df=pd.DataFrame(dict(Created_Date=opnsr,Closed_Date=clsdsr))"
   ]
  },
  {
   "cell_type": "code",
   "execution_count": 92,
   "metadata": {},
   "outputs": [
    {
     "data": {
      "text/html": [
       "<div>\n",
       "<style scoped>\n",
       "    .dataframe tbody tr th:only-of-type {\n",
       "        vertical-align: middle;\n",
       "    }\n",
       "\n",
       "    .dataframe tbody tr th {\n",
       "        vertical-align: top;\n",
       "    }\n",
       "\n",
       "    .dataframe thead th {\n",
       "        text-align: right;\n",
       "    }\n",
       "</style>\n",
       "<table border=\"1\" class=\"dataframe\">\n",
       "  <thead>\n",
       "    <tr style=\"text-align: right;\">\n",
       "      <th></th>\n",
       "      <th>Created_Date</th>\n",
       "      <th>Closed_Date</th>\n",
       "    </tr>\n",
       "  </thead>\n",
       "  <tbody>\n",
       "    <tr>\n",
       "      <th>0</th>\n",
       "      <td>01/01/2016 01:00:00 PM</td>\n",
       "      <td>01/02/2016 12:00:00 PM</td>\n",
       "    </tr>\n",
       "    <tr>\n",
       "      <th>1</th>\n",
       "      <td>01/01/2016 01:00:44 AM</td>\n",
       "      <td>01/01/2016 01:13:11 AM</td>\n",
       "    </tr>\n",
       "  </tbody>\n",
       "</table>\n",
       "</div>"
      ],
      "text/plain": [
       "             Created_Date             Closed_Date\n",
       "0  01/01/2016 01:00:00 PM  01/02/2016 12:00:00 PM\n",
       "1  01/01/2016 01:00:44 AM  01/01/2016 01:13:11 AM"
      ]
     },
     "execution_count": 92,
     "metadata": {},
     "output_type": "execute_result"
    }
   ],
   "source": [
    "df"
   ]
  },
  {
   "cell_type": "code",
   "execution_count": 93,
   "metadata": {},
   "outputs": [
    {
     "data": {
      "text/plain": [
       "0    01/01/2016 01:00:00 PM\n",
       "1    01/01/2016 01:00:44 AM\n",
       "Name: Created_Date, dtype: object"
      ]
     },
     "execution_count": 93,
     "metadata": {},
     "output_type": "execute_result"
    }
   ],
   "source": [
    "df.Created_Date"
   ]
  },
  {
   "cell_type": "markdown",
   "metadata": {},
   "source": [
    "**Step 3 Converting dataframe column to date**"
   ]
  },
  {
   "cell_type": "code",
   "execution_count": 94,
   "metadata": {},
   "outputs": [],
   "source": [
    "df['Created_Date'] = pd.to_datetime(df['Created_Date'], format='%d/%m/%Y %I:%M:%S %p')"
   ]
  },
  {
   "cell_type": "code",
   "execution_count": 95,
   "metadata": {},
   "outputs": [],
   "source": [
    "df['Closed_Date'] = pd.to_datetime(df['Closed_Date'], format='%d/%m/%Y %I:%M:%S %p')"
   ]
  },
  {
   "cell_type": "code",
   "execution_count": 96,
   "metadata": {},
   "outputs": [
    {
     "data": {
      "text/html": [
       "<div>\n",
       "<style scoped>\n",
       "    .dataframe tbody tr th:only-of-type {\n",
       "        vertical-align: middle;\n",
       "    }\n",
       "\n",
       "    .dataframe tbody tr th {\n",
       "        vertical-align: top;\n",
       "    }\n",
       "\n",
       "    .dataframe thead th {\n",
       "        text-align: right;\n",
       "    }\n",
       "</style>\n",
       "<table border=\"1\" class=\"dataframe\">\n",
       "  <thead>\n",
       "    <tr style=\"text-align: right;\">\n",
       "      <th></th>\n",
       "      <th>Created_Date</th>\n",
       "      <th>Closed_Date</th>\n",
       "    </tr>\n",
       "  </thead>\n",
       "  <tbody>\n",
       "    <tr>\n",
       "      <th>0</th>\n",
       "      <td>2016-01-01 13:00:00</td>\n",
       "      <td>2016-02-01 12:00:00</td>\n",
       "    </tr>\n",
       "    <tr>\n",
       "      <th>1</th>\n",
       "      <td>2016-01-01 01:00:44</td>\n",
       "      <td>2016-01-01 01:13:11</td>\n",
       "    </tr>\n",
       "  </tbody>\n",
       "</table>\n",
       "</div>"
      ],
      "text/plain": [
       "         Created_Date         Closed_Date\n",
       "0 2016-01-01 13:00:00 2016-02-01 12:00:00\n",
       "1 2016-01-01 01:00:44 2016-01-01 01:13:11"
      ]
     },
     "execution_count": 96,
     "metadata": {},
     "output_type": "execute_result"
    }
   ],
   "source": [
    "df"
   ]
  },
  {
   "cell_type": "markdown",
   "metadata": {},
   "source": [
    "**Step 4: Calculating diff between two columns**"
   ]
  },
  {
   "cell_type": "code",
   "execution_count": 97,
   "metadata": {},
   "outputs": [
    {
     "data": {
      "text/html": [
       "<div>\n",
       "<style scoped>\n",
       "    .dataframe tbody tr th:only-of-type {\n",
       "        vertical-align: middle;\n",
       "    }\n",
       "\n",
       "    .dataframe tbody tr th {\n",
       "        vertical-align: top;\n",
       "    }\n",
       "\n",
       "    .dataframe thead th {\n",
       "        text-align: right;\n",
       "    }\n",
       "</style>\n",
       "<table border=\"1\" class=\"dataframe\">\n",
       "  <thead>\n",
       "    <tr style=\"text-align: right;\">\n",
       "      <th></th>\n",
       "      <th>Created_Date</th>\n",
       "      <th>Closed_Date</th>\n",
       "      <th>Resolution_Time</th>\n",
       "    </tr>\n",
       "  </thead>\n",
       "  <tbody>\n",
       "    <tr>\n",
       "      <th>0</th>\n",
       "      <td>2016-01-01 13:00:00</td>\n",
       "      <td>2016-02-01 12:00:00</td>\n",
       "      <td>30 days 23:00:00</td>\n",
       "    </tr>\n",
       "    <tr>\n",
       "      <th>1</th>\n",
       "      <td>2016-01-01 01:00:44</td>\n",
       "      <td>2016-01-01 01:13:11</td>\n",
       "      <td>0 days 00:12:27</td>\n",
       "    </tr>\n",
       "  </tbody>\n",
       "</table>\n",
       "</div>"
      ],
      "text/plain": [
       "         Created_Date         Closed_Date  Resolution_Time\n",
       "0 2016-01-01 13:00:00 2016-02-01 12:00:00 30 days 23:00:00\n",
       "1 2016-01-01 01:00:44 2016-01-01 01:13:11  0 days 00:12:27"
      ]
     },
     "execution_count": 97,
     "metadata": {},
     "output_type": "execute_result"
    }
   ],
   "source": [
    "df['Resolution_Time'] = df['Closed_Date'] -df['Created_Date']\n",
    "df"
   ]
  },
  {
   "cell_type": "markdown",
   "metadata": {},
   "source": [
    "**Optional-if you want in days use 'D' in np.timedelta64()**\n",
    "- Put in 'W' if you want in difference in weeks\n",
    "- Put in 'M' if you want in difference in months\n",
    "- Put in 'Y' if you want in difference in years\n"
   ]
  },
  {
   "cell_type": "code",
   "execution_count": 98,
   "metadata": {},
   "outputs": [],
   "source": [
    "df['Resolution_Time']=df['Resolution_Time']/np.timedelta64(1,'D')"
   ]
  },
  {
   "cell_type": "code",
   "execution_count": 99,
   "metadata": {},
   "outputs": [
    {
     "data": {
      "text/html": [
       "<div>\n",
       "<style scoped>\n",
       "    .dataframe tbody tr th:only-of-type {\n",
       "        vertical-align: middle;\n",
       "    }\n",
       "\n",
       "    .dataframe tbody tr th {\n",
       "        vertical-align: top;\n",
       "    }\n",
       "\n",
       "    .dataframe thead th {\n",
       "        text-align: right;\n",
       "    }\n",
       "</style>\n",
       "<table border=\"1\" class=\"dataframe\">\n",
       "  <thead>\n",
       "    <tr style=\"text-align: right;\">\n",
       "      <th></th>\n",
       "      <th>Created_Date</th>\n",
       "      <th>Closed_Date</th>\n",
       "      <th>Resolution_Time</th>\n",
       "    </tr>\n",
       "  </thead>\n",
       "  <tbody>\n",
       "    <tr>\n",
       "      <th>0</th>\n",
       "      <td>2016-01-01 13:00:00</td>\n",
       "      <td>2016-02-01 12:00:00</td>\n",
       "      <td>30.958333</td>\n",
       "    </tr>\n",
       "    <tr>\n",
       "      <th>1</th>\n",
       "      <td>2016-01-01 01:00:44</td>\n",
       "      <td>2016-01-01 01:13:11</td>\n",
       "      <td>0.008646</td>\n",
       "    </tr>\n",
       "  </tbody>\n",
       "</table>\n",
       "</div>"
      ],
      "text/plain": [
       "         Created_Date         Closed_Date  Resolution_Time\n",
       "0 2016-01-01 13:00:00 2016-02-01 12:00:00        30.958333\n",
       "1 2016-01-01 01:00:44 2016-01-01 01:13:11         0.008646"
      ]
     },
     "execution_count": 99,
     "metadata": {},
     "output_type": "execute_result"
    }
   ],
   "source": [
    "df"
   ]
  },
  {
   "cell_type": "code",
   "execution_count": null,
   "metadata": {},
   "outputs": [],
   "source": []
  }
 ],
 "metadata": {
  "kernelspec": {
   "display_name": "Python 3",
   "language": "python",
   "name": "python3"
  },
  "language_info": {
   "codemirror_mode": {
    "name": "ipython",
    "version": 3
   },
   "file_extension": ".py",
   "mimetype": "text/x-python",
   "name": "python",
   "nbconvert_exporter": "python",
   "pygments_lexer": "ipython3",
   "version": "3.7.6"
  },
  "widgets": {
   "application/vnd.jupyter.widget-state+json": {
    "state": {},
    "version_major": 2,
    "version_minor": 0
   }
  }
 },
 "nbformat": 4,
 "nbformat_minor": 4
}
